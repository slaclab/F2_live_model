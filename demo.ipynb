{
 "cells": [
  {
   "cell_type": "markdown",
   "id": "8dc4f5c9-b40b-4228-a18e-0f18492880f1",
   "metadata": {},
   "source": [
    "## <code>BmadLiveModel</code> demo"
   ]
  },
  {
   "cell_type": "code",
   "execution_count": null,
   "id": "59bb0034-cb33-4b2b-b812-3dfdbd262acf",
   "metadata": {},
   "outputs": [],
   "source": [
    "import numpy as np\n",
    "from matplotlib import pyplot as plt"
   ]
  },
  {
   "cell_type": "code",
   "execution_count": null,
   "id": "3c150ccb-bf53-4b48-a8f3-08a57ef0ce8e",
   "metadata": {},
   "outputs": [],
   "source": [
    "from bmad import BmadLiveModel\n",
    "f2m = BmadLiveModel(design_only=True)"
   ]
  },
  {
   "cell_type": "markdown",
   "id": "42d2adb1-a60d-48de-8343-5b5a2ab86224",
   "metadata": {
    "panel-layout": {
     "height": 85.44999694824219,
     "visible": true,
     "width": 100
    }
   },
   "source": [
    "* lattice parameters and twiss functions are accessed directly via attributes\n",
    "* core data structures are all Numpy arrays with numerical indexing\n",
    "* simple example: plot twiss functions"
   ]
  },
  {
   "cell_type": "code",
   "execution_count": null,
   "id": "e2ca1175-44d1-4116-9c6e-2d3c8a1532a0",
   "metadata": {
    "panel-layout": {
     "height": 701,
     "visible": true,
     "width": 100
    }
   },
   "outputs": [],
   "source": [
    "plt.plot(f2m.S, f2m.design.twiss.beta_x, label=r'$\\beta_x$')\n",
    "plt.plot(f2m.S, f2m.design.twiss.beta_y, label=r'$\\beta_y$')\n",
    "\n",
    "plt.legend()\n",
    "plt.ylabel(r'$\\beta$ / m')\n",
    "plt.xlabel('s / m')\n",
    "plt.grid(True, ls='--')\n",
    "plt.show()"
   ]
  },
  {
   "cell_type": "markdown",
   "id": "2a93db0f-ad03-4692-9fb0-66cd01f7e1a7",
   "metadata": {
    "panel-layout": {
     "height": 51.15000915527344,
     "visible": true,
     "width": 100
    }
   },
   "source": [
    "* The <code>BmadModel.ix</code> dictionary provides array indices based on element names, or control system names"
   ]
  },
  {
   "cell_type": "code",
   "execution_count": null,
   "id": "2f68bb58-640c-4f01-b750-f02c2d34d59e",
   "metadata": {
    "panel-layout": {
     "height": 701,
     "visible": true,
     "width": 100
    }
   },
   "outputs": [],
   "source": [
    "ix = f2m.ix\n",
    "print(ix['QE10525'])\n",
    "print(ix['QUAD:IN10:525'])"
   ]
  },
  {
   "cell_type": "markdown",
   "id": "3c6eff88-b0dd-4c62-9cf8-fc40f3ea8a82",
   "metadata": {
    "panel-layout": {
     "height": 68.30000305175781,
     "visible": true,
     "width": 100
    }
   },
   "source": [
    "* it's also possible to get a filter for device families (<code>RF, SOLN, XCOR, YCOR, COR, BEND, QUAD, SEXT, BPMS, PROF</code>)\n",
    "* ex: get control system names of all profile monitors"
   ]
  },
  {
   "cell_type": "code",
   "execution_count": null,
   "id": "a00c28ca-ff82-4db7-b72a-075d9c5ddde8",
   "metadata": {
    "panel-layout": {
     "height": 701,
     "visible": true,
     "width": 100
    }
   },
   "outputs": [],
   "source": [
    "print(f2m.names[ix['PROF']])"
   ]
  },
  {
   "cell_type": "markdown",
   "id": "5d7ebaa0-7676-45a7-a3ef-a566a8789756",
   "metadata": {
    "panel-layout": {
     "height": 51.15000915527344,
     "visible": true,
     "width": 100
    }
   },
   "source": [
    "* <code>BmadLiveModel.get_rmat</code> provides single or multi-element linear maps"
   ]
  },
  {
   "cell_type": "code",
   "execution_count": null,
   "id": "7d3c2687-c7c6-4393-91ee-0902670d4841",
   "metadata": {},
   "outputs": [],
   "source": [
    "R, v0 = f2m.get_rmat('QA10361')\n",
    "print(R)\n",
    "print(v0)"
   ]
  },
  {
   "cell_type": "code",
   "execution_count": null,
   "id": "7c324bf9-a030-4674-bea4-1d5a00994837",
   "metadata": {},
   "outputs": [],
   "source": [
    "R12, v12 = f2m.get_rmat(('QE10525', 'PR10711'))\n",
    "print(R12)\n",
    "print(v12)"
   ]
  },
  {
   "cell_type": "markdown",
   "id": "067ebf8f-897d-46ee-9bcb-92808997310c",
   "metadata": {
    "panel-layout": {
     "height": 68.30000305175781,
     "visible": true,
     "width": 100
    }
   },
   "source": [
    "* for more sophisticated uses, we can directly manipulate the underlying instance of <code>Tao</code>\n",
    "* example: plot of design quadrupole strengths, normalized relative to the design beam energy"
   ]
  },
  {
   "cell_type": "code",
   "execution_count": null,
   "id": "a72369c1-49e1-401a-af67-c84a93794baa",
   "metadata": {},
   "outputs": [],
   "source": [
    "qk = f2m.tao.lat_list('quad::*', 'ele.k1', flags='-array_out -no_slaves')\n",
    "qs = f2m.S[ix['QUAD']]\n",
    "quad_str_norm = qk * f2m.design.gamma_rel[ix['QUAD']]\n",
    "\n",
    "fig,ax = plt.subplots(2,1)\n",
    "ax[0].bar(qs, quad_str_norm, width=10, color='b')\n",
    "ax[1].fill_between(qs, f2m.design.p0c[ix['QUAD']]/1e9, 0, color='g', alpha=0.9)\n",
    "ax[0].hlines(0, -5, 1005, color='k')\n",
    "ax[0].set_ylim(-30000, 30000)\n",
    "ax[0].set_xlabel('s')\n",
    "ax[0].set_ylabel(r'$\\gamma k_1$ [1/m]', color='b');\n",
    "ax[1].set_ylabel(r'$p_z$ [GeV]', color='g')\n",
    "for a in ax: a.grid(True, ls='--')"
   ]
  },
  {
   "cell_type": "markdown",
   "id": "7f76a607-ea4e-450e-910f-133f5259d874",
   "metadata": {},
   "source": []
  }
 ],
 "metadata": {
  "kernelspec": {
   "display_name": "Python 3 (ipykernel)",
   "language": "python",
   "name": "python3"
  },
  "language_info": {
   "codemirror_mode": {
    "name": "ipython",
    "version": 3
   },
   "file_extension": ".py",
   "mimetype": "text/x-python",
   "name": "python",
   "nbconvert_exporter": "python",
   "pygments_lexer": "ipython3",
   "version": "3.10.14"
  },
  "panel-cell-order": [
   "30f2c0e6-54aa-493b-9c9d-cd721b7c0015",
   "42d2adb1-a60d-48de-8343-5b5a2ab86224",
   "e2ca1175-44d1-4116-9c6e-2d3c8a1532a0",
   "2a93db0f-ad03-4692-9fb0-66cd01f7e1a7",
   "2f68bb58-640c-4f01-b750-f02c2d34d59e",
   "3c6eff88-b0dd-4c62-9cf8-fc40f3ea8a82",
   "a00c28ca-ff82-4db7-b72a-075d9c5ddde8",
   "5d7ebaa0-7676-45a7-a3ef-a566a8789756",
   "067ebf8f-897d-46ee-9bcb-92808997310c"
  ]
 },
 "nbformat": 4,
 "nbformat_minor": 5
}
